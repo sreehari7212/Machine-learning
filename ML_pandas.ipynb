{
 "cells": [
  {
   "cell_type": "code",
   "execution_count": 96,
   "id": "ee22880a-38dc-415d-b28c-2eb6d044fa79",
   "metadata": {},
   "outputs": [],
   "source": [
    "import pandas as pd\n",
    "import numpy as np"
   ]
  },
  {
   "cell_type": "code",
   "execution_count": 97,
   "id": "e4a5c974-4dfc-438a-8bae-e0fc3b1f3c0c",
   "metadata": {},
   "outputs": [],
   "source": [
    "data={'Name':['suku','saji','shaaji','soman'],\n",
    "    'Age':[22,23,22,23],\n",
    "    'Dprtmnt':['Maths','Botony','History','English'],\n",
    "    'Wieght':[65,66,70,77],\n",
    "    'Height':[166,167,177,180]}\n"
   ]
  },
  {
   "cell_type": "code",
   "execution_count": 98,
   "id": "4485f185-579a-442e-9696-b93299755b0f",
   "metadata": {},
   "outputs": [],
   "source": [
    "df=pd.DataFrame(data)"
   ]
  },
  {
   "cell_type": "code",
   "execution_count": 99,
   "id": "7bdbea4b-9dce-4328-83f6-7c9ba03792c8",
   "metadata": {},
   "outputs": [
    {
     "data": {
      "text/html": [
       "<div>\n",
       "<style scoped>\n",
       "    .dataframe tbody tr th:only-of-type {\n",
       "        vertical-align: middle;\n",
       "    }\n",
       "\n",
       "    .dataframe tbody tr th {\n",
       "        vertical-align: top;\n",
       "    }\n",
       "\n",
       "    .dataframe thead th {\n",
       "        text-align: right;\n",
       "    }\n",
       "</style>\n",
       "<table border=\"1\" class=\"dataframe\">\n",
       "  <thead>\n",
       "    <tr style=\"text-align: right;\">\n",
       "      <th></th>\n",
       "      <th>Name</th>\n",
       "      <th>Age</th>\n",
       "      <th>Dprtmnt</th>\n",
       "      <th>Wieght</th>\n",
       "      <th>Height</th>\n",
       "    </tr>\n",
       "  </thead>\n",
       "  <tbody>\n",
       "    <tr>\n",
       "      <th>0</th>\n",
       "      <td>suku</td>\n",
       "      <td>22</td>\n",
       "      <td>Maths</td>\n",
       "      <td>65</td>\n",
       "      <td>166</td>\n",
       "    </tr>\n",
       "    <tr>\n",
       "      <th>1</th>\n",
       "      <td>saji</td>\n",
       "      <td>23</td>\n",
       "      <td>Botony</td>\n",
       "      <td>66</td>\n",
       "      <td>167</td>\n",
       "    </tr>\n",
       "    <tr>\n",
       "      <th>2</th>\n",
       "      <td>shaaji</td>\n",
       "      <td>22</td>\n",
       "      <td>History</td>\n",
       "      <td>70</td>\n",
       "      <td>177</td>\n",
       "    </tr>\n",
       "    <tr>\n",
       "      <th>3</th>\n",
       "      <td>soman</td>\n",
       "      <td>23</td>\n",
       "      <td>English</td>\n",
       "      <td>77</td>\n",
       "      <td>180</td>\n",
       "    </tr>\n",
       "  </tbody>\n",
       "</table>\n",
       "</div>"
      ],
      "text/plain": [
       "     Name  Age  Dprtmnt  Wieght  Height\n",
       "0    suku   22    Maths      65     166\n",
       "1    saji   23   Botony      66     167\n",
       "2  shaaji   22  History      70     177\n",
       "3   soman   23  English      77     180"
      ]
     },
     "execution_count": 99,
     "metadata": {},
     "output_type": "execute_result"
    }
   ],
   "source": [
    "df"
   ]
  },
  {
   "cell_type": "code",
   "execution_count": 100,
   "id": "ef0fe6ad-0efc-4daf-8c5b-0a499df96702",
   "metadata": {},
   "outputs": [],
   "source": [
    "#CONVERTING DATAFRAME TO CSV"
   ]
  },
  {
   "cell_type": "code",
   "execution_count": 101,
   "id": "2a365e2b-058f-4ace-8dbd-dabacdec1dc3",
   "metadata": {},
   "outputs": [],
   "source": [
    "df.to_csv('datasci1.csv',encoding='utf-8')"
   ]
  },
  {
   "cell_type": "code",
   "execution_count": 52,
   "id": "80d73e91-c4ef-4120-8bf3-32a5f7259f1d",
   "metadata": {},
   "outputs": [],
   "source": [
    "#CONVERTING DATAFRAME TO JSON FILE"
   ]
  },
  {
   "cell_type": "code",
   "execution_count": 53,
   "id": "9231ab53-53b4-40c5-a12a-05e106c5d947",
   "metadata": {},
   "outputs": [],
   "source": [
    "df.to_json('data2.json',orient=\"index\")"
   ]
  },
  {
   "cell_type": "code",
   "execution_count": 54,
   "id": "28a46f33-090b-47b4-89ac-e0e4d6cc0e0e",
   "metadata": {},
   "outputs": [],
   "source": [
    "#converting dataframe to excel file"
   ]
  },
  {
   "cell_type": "code",
   "execution_count": 82,
   "id": "d454f6a6-3dfa-478b-a68f-ae918f9f9540",
   "metadata": {},
   "outputs": [],
   "source": [
    "df.to_excel(r\"C:\\Users\\SREEHARI CR\\data science\\data3.xlsx\", index = False)"
   ]
  },
  {
   "cell_type": "code",
   "execution_count": 83,
   "id": "6b72f979-085b-4428-9c30-7016cb493dcd",
   "metadata": {},
   "outputs": [],
   "source": [
    "df.to_csv(r'C:\\Users\\SREEHARI CR\\data science\\data4.txt', header=None, index=None, sep='\\t', mode='a')"
   ]
  },
  {
   "cell_type": "code",
   "execution_count": 77,
   "id": "50228e41-5a22-4046-baaa-cc17ce303780",
   "metadata": {},
   "outputs": [],
   "source": [
    "df=pd.read_csv(\"data.csv\")"
   ]
  },
  {
   "cell_type": "code",
   "execution_count": 69,
   "id": "f5cb20ca-cc86-449b-8148-daa333f389bc",
   "metadata": {},
   "outputs": [
    {
     "data": {
      "text/html": [
       "<div>\n",
       "<style scoped>\n",
       "    .dataframe tbody tr th:only-of-type {\n",
       "        vertical-align: middle;\n",
       "    }\n",
       "\n",
       "    .dataframe tbody tr th {\n",
       "        vertical-align: top;\n",
       "    }\n",
       "\n",
       "    .dataframe thead th {\n",
       "        text-align: right;\n",
       "    }\n",
       "</style>\n",
       "<table border=\"1\" class=\"dataframe\">\n",
       "  <thead>\n",
       "    <tr style=\"text-align: right;\">\n",
       "      <th></th>\n",
       "      <th>Unnamed: 0</th>\n",
       "      <th>suku</th>\n",
       "      <th>22</th>\n",
       "      <th>Maths</th>\n",
       "      <th>65</th>\n",
       "      <th>166</th>\n",
       "    </tr>\n",
       "  </thead>\n",
       "  <tbody>\n",
       "    <tr>\n",
       "      <th>0</th>\n",
       "      <td>0</td>\n",
       "      <td>saji</td>\n",
       "      <td>23</td>\n",
       "      <td>Botony</td>\n",
       "      <td>66</td>\n",
       "      <td>167</td>\n",
       "    </tr>\n",
       "    <tr>\n",
       "      <th>1</th>\n",
       "      <td>1</td>\n",
       "      <td>shaaji</td>\n",
       "      <td>22</td>\n",
       "      <td>History</td>\n",
       "      <td>70</td>\n",
       "      <td>177</td>\n",
       "    </tr>\n",
       "    <tr>\n",
       "      <th>2</th>\n",
       "      <td>2</td>\n",
       "      <td>soman</td>\n",
       "      <td>23</td>\n",
       "      <td>English</td>\n",
       "      <td>77</td>\n",
       "      <td>180</td>\n",
       "    </tr>\n",
       "  </tbody>\n",
       "</table>\n",
       "</div>"
      ],
      "text/plain": [
       "   Unnamed: 0    suku  22    Maths  65  166\n",
       "0           0    saji  23   Botony  66  167\n",
       "1           1  shaaji  22  History  70  177\n",
       "2           2   soman  23  English  77  180"
      ]
     },
     "execution_count": 69,
     "metadata": {},
     "output_type": "execute_result"
    }
   ],
   "source": [
    "df"
   ]
  },
  {
   "cell_type": "code",
   "execution_count": 58,
   "id": "208d7f9a-5c79-40d9-8ee4-4cf551559120",
   "metadata": {},
   "outputs": [
    {
     "data": {
      "text/html": [
       "<div>\n",
       "<style scoped>\n",
       "    .dataframe tbody tr th:only-of-type {\n",
       "        vertical-align: middle;\n",
       "    }\n",
       "\n",
       "    .dataframe tbody tr th {\n",
       "        vertical-align: top;\n",
       "    }\n",
       "\n",
       "    .dataframe thead th {\n",
       "        text-align: right;\n",
       "    }\n",
       "</style>\n",
       "<table border=\"1\" class=\"dataframe\">\n",
       "  <thead>\n",
       "    <tr style=\"text-align: right;\">\n",
       "      <th></th>\n",
       "      <th>suku</th>\n",
       "      <th>22</th>\n",
       "      <th>Maths</th>\n",
       "      <th>65</th>\n",
       "      <th>166</th>\n",
       "    </tr>\n",
       "  </thead>\n",
       "  <tbody>\n",
       "    <tr>\n",
       "      <th>0</th>\n",
       "      <td>saji</td>\n",
       "      <td>23</td>\n",
       "      <td>Botony</td>\n",
       "      <td>66</td>\n",
       "      <td>167</td>\n",
       "    </tr>\n",
       "    <tr>\n",
       "      <th>1</th>\n",
       "      <td>shaaji</td>\n",
       "      <td>22</td>\n",
       "      <td>History</td>\n",
       "      <td>70</td>\n",
       "      <td>177</td>\n",
       "    </tr>\n",
       "    <tr>\n",
       "      <th>2</th>\n",
       "      <td>soman</td>\n",
       "      <td>23</td>\n",
       "      <td>English</td>\n",
       "      <td>77</td>\n",
       "      <td>180</td>\n",
       "    </tr>\n",
       "  </tbody>\n",
       "</table>\n",
       "</div>"
      ],
      "text/plain": [
       "     suku  22    Maths  65  166\n",
       "0    saji  23   Botony  66  167\n",
       "1  shaaji  22  History  70  177\n",
       "2   soman  23  English  77  180"
      ]
     },
     "execution_count": 58,
     "metadata": {},
     "output_type": "execute_result"
    }
   ],
   "source": [
    "df.head()"
   ]
  },
  {
   "cell_type": "code",
   "execution_count": 70,
   "id": "9421b2bd-0068-4a86-b963-f993b1271dce",
   "metadata": {},
   "outputs": [],
   "source": [
    "df1=pd.read_json('data2.json')"
   ]
  },
  {
   "cell_type": "code",
   "execution_count": 71,
   "id": "4540d3e1-f73f-49b6-9bfa-b4ba7db7479c",
   "metadata": {},
   "outputs": [
    {
     "data": {
      "text/html": [
       "<div>\n",
       "<style scoped>\n",
       "    .dataframe tbody tr th:only-of-type {\n",
       "        vertical-align: middle;\n",
       "    }\n",
       "\n",
       "    .dataframe tbody tr th {\n",
       "        vertical-align: top;\n",
       "    }\n",
       "\n",
       "    .dataframe thead th {\n",
       "        text-align: right;\n",
       "    }\n",
       "</style>\n",
       "<table border=\"1\" class=\"dataframe\">\n",
       "  <thead>\n",
       "    <tr style=\"text-align: right;\">\n",
       "      <th></th>\n",
       "      <th>0</th>\n",
       "      <th>1</th>\n",
       "      <th>2</th>\n",
       "      <th>3</th>\n",
       "    </tr>\n",
       "  </thead>\n",
       "  <tbody>\n",
       "    <tr>\n",
       "      <th>Name</th>\n",
       "      <td>suku</td>\n",
       "      <td>saji</td>\n",
       "      <td>shaaji</td>\n",
       "      <td>soman</td>\n",
       "    </tr>\n",
       "    <tr>\n",
       "      <th>Age</th>\n",
       "      <td>22</td>\n",
       "      <td>23</td>\n",
       "      <td>22</td>\n",
       "      <td>23</td>\n",
       "    </tr>\n",
       "    <tr>\n",
       "      <th>Dprtmnt</th>\n",
       "      <td>Maths</td>\n",
       "      <td>Botony</td>\n",
       "      <td>History</td>\n",
       "      <td>English</td>\n",
       "    </tr>\n",
       "    <tr>\n",
       "      <th>Wieght</th>\n",
       "      <td>65</td>\n",
       "      <td>66</td>\n",
       "      <td>70</td>\n",
       "      <td>77</td>\n",
       "    </tr>\n",
       "    <tr>\n",
       "      <th>Height</th>\n",
       "      <td>166</td>\n",
       "      <td>167</td>\n",
       "      <td>177</td>\n",
       "      <td>180</td>\n",
       "    </tr>\n",
       "  </tbody>\n",
       "</table>\n",
       "</div>"
      ],
      "text/plain": [
       "             0       1        2        3\n",
       "Name      suku    saji   shaaji    soman\n",
       "Age         22      23       22       23\n",
       "Dprtmnt  Maths  Botony  History  English\n",
       "Wieght      65      66       70       77\n",
       "Height     166     167      177      180"
      ]
     },
     "execution_count": 71,
     "metadata": {},
     "output_type": "execute_result"
    }
   ],
   "source": [
    "df1"
   ]
  },
  {
   "cell_type": "code",
   "execution_count": 72,
   "id": "1856ee9e-841d-4cdc-b8ae-ed68d421cad2",
   "metadata": {},
   "outputs": [
    {
     "data": {
      "text/html": [
       "<div>\n",
       "<style scoped>\n",
       "    .dataframe tbody tr th:only-of-type {\n",
       "        vertical-align: middle;\n",
       "    }\n",
       "\n",
       "    .dataframe tbody tr th {\n",
       "        vertical-align: top;\n",
       "    }\n",
       "\n",
       "    .dataframe thead th {\n",
       "        text-align: right;\n",
       "    }\n",
       "</style>\n",
       "<table border=\"1\" class=\"dataframe\">\n",
       "  <thead>\n",
       "    <tr style=\"text-align: right;\">\n",
       "      <th></th>\n",
       "      <th>0</th>\n",
       "      <th>1</th>\n",
       "      <th>2</th>\n",
       "      <th>3</th>\n",
       "    </tr>\n",
       "  </thead>\n",
       "  <tbody>\n",
       "    <tr>\n",
       "      <th>Name</th>\n",
       "      <td>suku</td>\n",
       "      <td>saji</td>\n",
       "      <td>shaaji</td>\n",
       "      <td>soman</td>\n",
       "    </tr>\n",
       "    <tr>\n",
       "      <th>Age</th>\n",
       "      <td>22</td>\n",
       "      <td>23</td>\n",
       "      <td>22</td>\n",
       "      <td>23</td>\n",
       "    </tr>\n",
       "    <tr>\n",
       "      <th>Dprtmnt</th>\n",
       "      <td>Maths</td>\n",
       "      <td>Botony</td>\n",
       "      <td>History</td>\n",
       "      <td>English</td>\n",
       "    </tr>\n",
       "    <tr>\n",
       "      <th>Wieght</th>\n",
       "      <td>65</td>\n",
       "      <td>66</td>\n",
       "      <td>70</td>\n",
       "      <td>77</td>\n",
       "    </tr>\n",
       "    <tr>\n",
       "      <th>Height</th>\n",
       "      <td>166</td>\n",
       "      <td>167</td>\n",
       "      <td>177</td>\n",
       "      <td>180</td>\n",
       "    </tr>\n",
       "  </tbody>\n",
       "</table>\n",
       "</div>"
      ],
      "text/plain": [
       "             0       1        2        3\n",
       "Name      suku    saji   shaaji    soman\n",
       "Age         22      23       22       23\n",
       "Dprtmnt  Maths  Botony  History  English\n",
       "Wieght      65      66       70       77\n",
       "Height     166     167      177      180"
      ]
     },
     "execution_count": 72,
     "metadata": {},
     "output_type": "execute_result"
    }
   ],
   "source": [
    "df1.head()"
   ]
  },
  {
   "cell_type": "code",
   "execution_count": 91,
   "id": "7133f746-053d-4402-8f87-5ec40ed3ca5c",
   "metadata": {},
   "outputs": [],
   "source": [
    "df2=pd.read_excel(\"data3.xlsx\")"
   ]
  },
  {
   "cell_type": "code",
   "execution_count": 92,
   "id": "e741cfaa-65e1-4335-a501-341633a9795e",
   "metadata": {},
   "outputs": [
    {
     "data": {
      "text/html": [
       "<div>\n",
       "<style scoped>\n",
       "    .dataframe tbody tr th:only-of-type {\n",
       "        vertical-align: middle;\n",
       "    }\n",
       "\n",
       "    .dataframe tbody tr th {\n",
       "        vertical-align: top;\n",
       "    }\n",
       "\n",
       "    .dataframe thead th {\n",
       "        text-align: right;\n",
       "    }\n",
       "</style>\n",
       "<table border=\"1\" class=\"dataframe\">\n",
       "  <thead>\n",
       "    <tr style=\"text-align: right;\">\n",
       "      <th></th>\n",
       "      <th>Unnamed: 0</th>\n",
       "      <th>suku</th>\n",
       "      <th>22</th>\n",
       "      <th>Maths</th>\n",
       "      <th>65</th>\n",
       "      <th>166</th>\n",
       "    </tr>\n",
       "  </thead>\n",
       "  <tbody>\n",
       "    <tr>\n",
       "      <th>0</th>\n",
       "      <td>0</td>\n",
       "      <td>saji</td>\n",
       "      <td>23</td>\n",
       "      <td>Botony</td>\n",
       "      <td>66</td>\n",
       "      <td>167</td>\n",
       "    </tr>\n",
       "    <tr>\n",
       "      <th>1</th>\n",
       "      <td>1</td>\n",
       "      <td>shaaji</td>\n",
       "      <td>22</td>\n",
       "      <td>History</td>\n",
       "      <td>70</td>\n",
       "      <td>177</td>\n",
       "    </tr>\n",
       "    <tr>\n",
       "      <th>2</th>\n",
       "      <td>2</td>\n",
       "      <td>soman</td>\n",
       "      <td>23</td>\n",
       "      <td>English</td>\n",
       "      <td>77</td>\n",
       "      <td>180</td>\n",
       "    </tr>\n",
       "  </tbody>\n",
       "</table>\n",
       "</div>"
      ],
      "text/plain": [
       "   Unnamed: 0    suku  22    Maths  65  166\n",
       "0           0    saji  23   Botony  66  167\n",
       "1           1  shaaji  22  History  70  177\n",
       "2           2   soman  23  English  77  180"
      ]
     },
     "execution_count": 92,
     "metadata": {},
     "output_type": "execute_result"
    }
   ],
   "source": [
    "df2"
   ]
  },
  {
   "cell_type": "code",
   "execution_count": 93,
   "id": "f7aeac3d-ae5a-4aaa-b953-11e6c795f0e5",
   "metadata": {},
   "outputs": [],
   "source": [
    "df3=pd.read_table(\"data4.txt\")"
   ]
  },
  {
   "cell_type": "code",
   "execution_count": 94,
   "id": "23daf089-18cc-44d6-93ad-7cfbb465cd39",
   "metadata": {},
   "outputs": [
    {
     "data": {
      "text/html": [
       "<div>\n",
       "<style scoped>\n",
       "    .dataframe tbody tr th:only-of-type {\n",
       "        vertical-align: middle;\n",
       "    }\n",
       "\n",
       "    .dataframe tbody tr th {\n",
       "        vertical-align: top;\n",
       "    }\n",
       "\n",
       "    .dataframe thead th {\n",
       "        text-align: right;\n",
       "    }\n",
       "</style>\n",
       "<table border=\"1\" class=\"dataframe\">\n",
       "  <thead>\n",
       "    <tr style=\"text-align: right;\">\n",
       "      <th></th>\n",
       "      <th>0</th>\n",
       "      <th>saji</th>\n",
       "      <th>23</th>\n",
       "      <th>Botony</th>\n",
       "      <th>66</th>\n",
       "      <th>167</th>\n",
       "    </tr>\n",
       "  </thead>\n",
       "  <tbody>\n",
       "    <tr>\n",
       "      <th>0</th>\n",
       "      <td>1</td>\n",
       "      <td>shaaji</td>\n",
       "      <td>22</td>\n",
       "      <td>History</td>\n",
       "      <td>70</td>\n",
       "      <td>177</td>\n",
       "    </tr>\n",
       "    <tr>\n",
       "      <th>1</th>\n",
       "      <td>2</td>\n",
       "      <td>soman</td>\n",
       "      <td>23</td>\n",
       "      <td>English</td>\n",
       "      <td>77</td>\n",
       "      <td>180</td>\n",
       "    </tr>\n",
       "  </tbody>\n",
       "</table>\n",
       "</div>"
      ],
      "text/plain": [
       "   0    saji  23   Botony  66  167\n",
       "0  1  shaaji  22  History  70  177\n",
       "1  2   soman  23  English  77  180"
      ]
     },
     "execution_count": 94,
     "metadata": {},
     "output_type": "execute_result"
    }
   ],
   "source": [
    "df3"
   ]
  },
  {
   "cell_type": "code",
   "execution_count": 102,
   "id": "0e8ac694-b047-475a-8694-868670244425",
   "metadata": {},
   "outputs": [],
   "source": [
    "df=pd.read_csv(\"datasci1.csv\")"
   ]
  },
  {
   "cell_type": "code",
   "execution_count": 103,
   "id": "96f4187b-dfef-4989-8d89-03f4be543231",
   "metadata": {},
   "outputs": [
    {
     "data": {
      "text/html": [
       "<div>\n",
       "<style scoped>\n",
       "    .dataframe tbody tr th:only-of-type {\n",
       "        vertical-align: middle;\n",
       "    }\n",
       "\n",
       "    .dataframe tbody tr th {\n",
       "        vertical-align: top;\n",
       "    }\n",
       "\n",
       "    .dataframe thead th {\n",
       "        text-align: right;\n",
       "    }\n",
       "</style>\n",
       "<table border=\"1\" class=\"dataframe\">\n",
       "  <thead>\n",
       "    <tr style=\"text-align: right;\">\n",
       "      <th></th>\n",
       "      <th>Unnamed: 0</th>\n",
       "      <th>Name</th>\n",
       "      <th>Age</th>\n",
       "      <th>Dprtmnt</th>\n",
       "      <th>Wieght</th>\n",
       "      <th>Height</th>\n",
       "    </tr>\n",
       "  </thead>\n",
       "  <tbody>\n",
       "    <tr>\n",
       "      <th>0</th>\n",
       "      <td>0</td>\n",
       "      <td>suku</td>\n",
       "      <td>22</td>\n",
       "      <td>Maths</td>\n",
       "      <td>65</td>\n",
       "      <td>166</td>\n",
       "    </tr>\n",
       "    <tr>\n",
       "      <th>1</th>\n",
       "      <td>1</td>\n",
       "      <td>saji</td>\n",
       "      <td>23</td>\n",
       "      <td>Botony</td>\n",
       "      <td>66</td>\n",
       "      <td>167</td>\n",
       "    </tr>\n",
       "    <tr>\n",
       "      <th>2</th>\n",
       "      <td>2</td>\n",
       "      <td>shaaji</td>\n",
       "      <td>22</td>\n",
       "      <td>History</td>\n",
       "      <td>70</td>\n",
       "      <td>177</td>\n",
       "    </tr>\n",
       "    <tr>\n",
       "      <th>3</th>\n",
       "      <td>3</td>\n",
       "      <td>soman</td>\n",
       "      <td>23</td>\n",
       "      <td>English</td>\n",
       "      <td>77</td>\n",
       "      <td>180</td>\n",
       "    </tr>\n",
       "  </tbody>\n",
       "</table>\n",
       "</div>"
      ],
      "text/plain": [
       "   Unnamed: 0    Name  Age  Dprtmnt  Wieght  Height\n",
       "0           0    suku   22    Maths      65     166\n",
       "1           1    saji   23   Botony      66     167\n",
       "2           2  shaaji   22  History      70     177\n",
       "3           3   soman   23  English      77     180"
      ]
     },
     "execution_count": 103,
     "metadata": {},
     "output_type": "execute_result"
    }
   ],
   "source": [
    "df"
   ]
  },
  {
   "cell_type": "code",
   "execution_count": 105,
   "id": "a0422a0c-4527-4be2-a827-f31f5df95beb",
   "metadata": {},
   "outputs": [
    {
     "data": {
      "text/plain": [
       "22    2\n",
       "23    2\n",
       "Name: Age, dtype: int64"
      ]
     },
     "execution_count": 105,
     "metadata": {},
     "output_type": "execute_result"
    }
   ],
   "source": [
    "df.Age.value_counts()"
   ]
  },
  {
   "cell_type": "code",
   "execution_count": 111,
   "id": "902a1fde-4a8e-4365-9ae2-d32064d66bfa",
   "metadata": {},
   "outputs": [
    {
     "data": {
      "text/html": [
       "<div>\n",
       "<style scoped>\n",
       "    .dataframe tbody tr th:only-of-type {\n",
       "        vertical-align: middle;\n",
       "    }\n",
       "\n",
       "    .dataframe tbody tr th {\n",
       "        vertical-align: top;\n",
       "    }\n",
       "\n",
       "    .dataframe thead th {\n",
       "        text-align: right;\n",
       "    }\n",
       "</style>\n",
       "<table border=\"1\" class=\"dataframe\">\n",
       "  <thead>\n",
       "    <tr style=\"text-align: right;\">\n",
       "      <th></th>\n",
       "      <th>Unnamed: 0</th>\n",
       "      <th>Name</th>\n",
       "      <th>Age</th>\n",
       "      <th>Dprtmnt</th>\n",
       "      <th>Wieght</th>\n",
       "      <th>Height</th>\n",
       "    </tr>\n",
       "  </thead>\n",
       "  <tbody>\n",
       "    <tr>\n",
       "      <th>0</th>\n",
       "      <td>0</td>\n",
       "      <td>suku</td>\n",
       "      <td>22</td>\n",
       "      <td>Maths</td>\n",
       "      <td>65</td>\n",
       "      <td>166</td>\n",
       "    </tr>\n",
       "    <tr>\n",
       "      <th>1</th>\n",
       "      <td>1</td>\n",
       "      <td>saji</td>\n",
       "      <td>23</td>\n",
       "      <td>Botony</td>\n",
       "      <td>66</td>\n",
       "      <td>167</td>\n",
       "    </tr>\n",
       "    <tr>\n",
       "      <th>2</th>\n",
       "      <td>2</td>\n",
       "      <td>shaaji</td>\n",
       "      <td>22</td>\n",
       "      <td>History</td>\n",
       "      <td>70</td>\n",
       "      <td>177</td>\n",
       "    </tr>\n",
       "    <tr>\n",
       "      <th>3</th>\n",
       "      <td>3</td>\n",
       "      <td>soman</td>\n",
       "      <td>23</td>\n",
       "      <td>English</td>\n",
       "      <td>77</td>\n",
       "      <td>180</td>\n",
       "    </tr>\n",
       "  </tbody>\n",
       "</table>\n",
       "</div>"
      ],
      "text/plain": [
       "   Unnamed: 0    Name  Age  Dprtmnt  Wieght  Height\n",
       "0           0    suku   22    Maths      65     166\n",
       "1           1    saji   23   Botony      66     167\n",
       "2           2  shaaji   22  History      70     177\n",
       "3           3   soman   23  English      77     180"
      ]
     },
     "execution_count": 111,
     "metadata": {},
     "output_type": "execute_result"
    }
   ],
   "source": [
    "df"
   ]
  },
  {
   "cell_type": "code",
   "execution_count": 114,
   "id": "3954d846-b274-4acd-b633-74f5450b5abf",
   "metadata": {},
   "outputs": [],
   "source": [
    "data=np.append(df, [['saji'],[40],['phy'],[55],[177]])"
   ]
  },
  {
   "cell_type": "code",
   "execution_count": 115,
   "id": "0f0d1f5a-fada-4276-b0ab-5c6125668062",
   "metadata": {},
   "outputs": [
    {
     "data": {
      "text/plain": [
       "array([0, 'suku', 22, 'Maths', 65, 166, 1, 'saji', 23, 'Botony', 66, 167,\n",
       "       2, 'shaaji', 22, 'History', 70, 177, 3, 'soman', 23, 'English', 77,\n",
       "       180, 'saji', '40', 'phy', '55', '177'], dtype=object)"
      ]
     },
     "execution_count": 115,
     "metadata": {},
     "output_type": "execute_result"
    }
   ],
   "source": [
    "data"
   ]
  },
  {
   "cell_type": "code",
   "execution_count": null,
   "id": "adb484e1-ea74-46f2-bc63-aa9020470bf9",
   "metadata": {},
   "outputs": [],
   "source": []
  }
 ],
 "metadata": {
  "kernelspec": {
   "display_name": "Python 3 (ipykernel)",
   "language": "python",
   "name": "python3"
  },
  "language_info": {
   "codemirror_mode": {
    "name": "ipython",
    "version": 3
   },
   "file_extension": ".py",
   "mimetype": "text/x-python",
   "name": "python",
   "nbconvert_exporter": "python",
   "pygments_lexer": "ipython3",
   "version": "3.9.13"
  }
 },
 "nbformat": 4,
 "nbformat_minor": 5
}
