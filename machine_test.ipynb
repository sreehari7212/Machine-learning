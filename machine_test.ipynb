{
 "cells": [
  {
   "cell_type": "code",
   "execution_count": 1,
   "id": "334493ba-4901-4043-aa3e-21f49382759c",
   "metadata": {},
   "outputs": [],
   "source": [
    "import cv2\n",
    "import numpy as np"
   ]
  },
  {
   "cell_type": "code",
   "execution_count": 66,
   "id": "99a785de-7ccd-4a90-82d2-0100674c29c5",
   "metadata": {},
   "outputs": [],
   "source": [
    "import tensorflow\n",
    "from tensorflow.keras.layers import Input, Lambda, Dense, Flatten,Conv2D, MaxPool2D\n",
    "from tensorflow.keras.models import Model\n",
    "from tensorflow.keras.applications.resnet50 import ResNet50, preprocess_input\n",
    "from tensorflow.keras.optimizers import Adam\n",
    "from tensorflow.keras.losses import SparseCategoricalCrossentropy\n",
    "from tensorflow.keras.preprocessing import image\n",
    "from tensorflow.keras.preprocessing.image import ImageDataGenerator, load_img\n",
    "from tensorflow.keras.models import Sequential\n",
    "import pandas as pd\n",
    "import numpy as np\n",
    "from glob import glob\n",
    "import matplotlib.pyplot as plt\n",
    "import pathlib"
   ]
  },
  {
   "cell_type": "code",
   "execution_count": 8,
   "id": "63b4d03b-cabf-4f78-a595-448fbdab1a6b",
   "metadata": {},
   "outputs": [],
   "source": [
    "path = pathlib.Path(\"C:/Users/SREEHARI CR/data science/machine_test\")"
   ]
  },
  {
   "cell_type": "code",
   "execution_count": 29,
   "id": "bb251387-ec5b-4a5e-90f8-b85f01a86c1c",
   "metadata": {},
   "outputs": [],
   "source": [
    "Hyundai_Creta = list(path.glob(\"Hyundai_Creta/*\"))\n",
    "mammokka = list(path.glob(\"mammokka/*\"))\n",
    "Rolls_Royce=list(path.glob(\"Rolls_Royce/*\"))\n",
    "Swift=list(path.glob(\"Swift/*\"))\n",
    "Toyota_Innova=list(path.glob(\"Toyota_Innova/*\"))\n",
    "train=['Hyundai_Creta','mammoty','Rolls_Royce','Swift','Toyota_Innova']"
   ]
  },
  {
   "cell_type": "code",
   "execution_count": 30,
   "id": "e8f0398e-f28a-47ff-ae20-cc92b9320c1a",
   "metadata": {},
   "outputs": [
    {
     "data": {
      "text/plain": [
       "125"
      ]
     },
     "execution_count": 30,
     "metadata": {},
     "output_type": "execute_result"
    }
   ],
   "source": [
    "len(mammokka)"
   ]
  },
  {
   "cell_type": "code",
   "execution_count": 47,
   "id": "7042ac48-d400-423a-903c-416951b2696b",
   "metadata": {},
   "outputs": [],
   "source": [
    "pic_dict = {\"Hyundai_Creta\":Hyundai_Creta,\"mammokka\": mammokka, \"Rolls_Royce\":Rolls_Royce,\"Swift\" : Swift,\"Toyota_Innova\":Toyota_Innova}"
   ]
  },
  {
   "cell_type": "code",
   "execution_count": 41,
   "id": "98a28f7d-1882-4ef9-bf6a-d63dcca9869a",
   "metadata": {},
   "outputs": [],
   "source": [
    "clas= {\"Hyundai_Creta\":0, \"mammokka\":1 ,\"Rolls_Royce\":2,\"Swift\":3,\"Toyota_Innova\":4,}"
   ]
  },
  {
   "cell_type": "code",
   "execution_count": 42,
   "id": "cb062b0f-11f8-487e-b863-b8ab83416cde",
   "metadata": {},
   "outputs": [
    {
     "data": {
      "text/plain": [
       "{'Hyundai_Creta': 0,\n",
       " 'mammokka': 1,\n",
       " 'Rolls_Royce': 2,\n",
       " 'Swift': 3,\n",
       " 'Toyota_Innova': 4}"
      ]
     },
     "execution_count": 42,
     "metadata": {},
     "output_type": "execute_result"
    }
   ],
   "source": [
    "clas"
   ]
  },
  {
   "cell_type": "code",
   "execution_count": 50,
   "id": "d7d8db90-0dca-422b-aa56-1e6426cc6d3f",
   "metadata": {},
   "outputs": [],
   "source": [
    "x = []\n",
    "y = []"
   ]
  },
  {
   "cell_type": "code",
   "execution_count": 51,
   "id": "b26a1e7b-d68b-4ddf-9b1c-ffecbd5726b1",
   "metadata": {},
   "outputs": [],
   "source": [
    "import cv2"
   ]
  },
  {
   "cell_type": "code",
   "execution_count": 52,
   "id": "4b5518c9-c3fd-4c7e-b0f1-c84d1da7c908",
   "metadata": {},
   "outputs": [],
   "source": [
    "for i in pic_dict:\n",
    "    pic_name = i\n",
    "    pic_path_list = pic_dict[pic_name]\n",
    "    for path in pic_path_list:\n",
    "        img = cv2.imread(str(path))\n",
    "        img = cv2.resize(img, (100,100))\n",
    "        img = cv2.cvtColor(img, cv2.COLOR_BGR2RGB)\n",
    "        img = img/255 #normalization\n",
    "        x.append(img)\n",
    "        y.append(clas[i])\n"
   ]
  },
  {
   "cell_type": "code",
   "execution_count": 54,
   "id": "39a2ab9d-ce40-426f-b09b-5e455b52d1cb",
   "metadata": {},
   "outputs": [
    {
     "data": {
      "text/plain": [
       "558"
      ]
     },
     "execution_count": 54,
     "metadata": {},
     "output_type": "execute_result"
    }
   ],
   "source": [
    "len(x)"
   ]
  },
  {
   "cell_type": "code",
   "execution_count": 55,
   "id": "e4f15a9a-0f0d-42c3-a7a8-f21ce0f033be",
   "metadata": {},
   "outputs": [
    {
     "data": {
      "text/plain": [
       "558"
      ]
     },
     "execution_count": 55,
     "metadata": {},
     "output_type": "execute_result"
    }
   ],
   "source": [
    "len(y)"
   ]
  },
  {
   "cell_type": "code",
   "execution_count": 56,
   "id": "46e0022d-54fd-49a7-9aca-e8e78a7ab3f6",
   "metadata": {},
   "outputs": [],
   "source": [
    "x1=np.array(x)"
   ]
  },
  {
   "cell_type": "code",
   "execution_count": 57,
   "id": "4ae92dfa-c414-44f2-866e-12d877769f4f",
   "metadata": {},
   "outputs": [],
   "source": [
    "y1=np.array(y)"
   ]
  },
  {
   "cell_type": "code",
   "execution_count": 58,
   "id": "ede8c646-567d-4326-a766-0c32db29e6d4",
   "metadata": {},
   "outputs": [],
   "source": [
    "from sklearn.model_selection import train_test_split"
   ]
  },
  {
   "cell_type": "code",
   "execution_count": 60,
   "id": "111aadfd-faa0-432e-a00d-c2e0af6046e6",
   "metadata": {},
   "outputs": [],
   "source": [
    "xtrain,xtest,ytrain,ytest=train_test_split(x1,y1,test_size=.20,random_state=1)"
   ]
  },
  {
   "cell_type": "code",
   "execution_count": 63,
   "id": "1ab1e6c6-1439-4992-ae89-0e2bba811d71",
   "metadata": {},
   "outputs": [],
   "source": [
    "model= Sequential()\n",
    "model.add(Conv2D(filters=32,kernel_size=(3,3),input_shape=(100,100,3),padding=\"valid\",strides=1,activation='relu'))\n",
    "model.add(MaxPool2D(pool_size=(2,2)))\n",
    "model.add(Conv2D(filters=15,kernel_size=(3,3),padding=\"valid\",strides=1,activation='relu'))\n",
    "model.add(MaxPool2D(pool_size=(2,2)))\n",
    "model.add(Flatten())\n",
    "model.add(Dense(100,activation='relu'))\n",
    "model.add(Dense(70,activation='relu'))\n",
    "model.add(Dense(30,activation='relu'))         \n",
    "model.add(Dense(10,activation='softmax'))     "
   ]
  },
  {
   "cell_type": "code",
   "execution_count": 64,
   "id": "df531167-7d58-44d5-832e-06cd1e53c9eb",
   "metadata": {},
   "outputs": [
    {
     "name": "stdout",
     "output_type": "stream",
     "text": [
      "Model: \"sequential_1\"\n",
      "_________________________________________________________________\n",
      " Layer (type)                Output Shape              Param #   \n",
      "=================================================================\n",
      " conv2d (Conv2D)             (None, 98, 98, 32)        896       \n",
      "                                                                 \n",
      " max_pooling2d (MaxPooling2D  (None, 49, 49, 32)       0         \n",
      " )                                                               \n",
      "                                                                 \n",
      " conv2d_1 (Conv2D)           (None, 47, 47, 15)        4335      \n",
      "                                                                 \n",
      " max_pooling2d_1 (MaxPooling  (None, 23, 23, 15)       0         \n",
      " 2D)                                                             \n",
      "                                                                 \n",
      " flatten (Flatten)           (None, 7935)              0         \n",
      "                                                                 \n",
      " dense (Dense)               (None, 100)               793600    \n",
      "                                                                 \n",
      " dense_1 (Dense)             (None, 70)                7070      \n",
      "                                                                 \n",
      " dense_2 (Dense)             (None, 30)                2130      \n",
      "                                                                 \n",
      " dense_3 (Dense)             (None, 10)                310       \n",
      "                                                                 \n",
      "=================================================================\n",
      "Total params: 808,341\n",
      "Trainable params: 808,341\n",
      "Non-trainable params: 0\n",
      "_________________________________________________________________\n"
     ]
    }
   ],
   "source": [
    "model.summary()"
   ]
  },
  {
   "cell_type": "code",
   "execution_count": 67,
   "id": "bfd43521-3ae0-46ff-b72e-cbc74acb8de9",
   "metadata": {},
   "outputs": [],
   "source": [
    "model.compile(optimizer=Adam(),loss=SparseCategoricalCrossentropy(),metrics=['accuracy'])"
   ]
  },
  {
   "cell_type": "code",
   "execution_count": 68,
   "id": "b93caa37-76f2-44c2-839d-f72cd34951e0",
   "metadata": {},
   "outputs": [
    {
     "name": "stdout",
     "output_type": "stream",
     "text": [
      "Epoch 1/5\n",
      "223/223 [==============================] - 10s 36ms/step - loss: 1.6125 - accuracy: 0.3139 - val_loss: 1.4401 - val_accuracy: 0.4821\n",
      "Epoch 2/5\n",
      "223/223 [==============================] - 6s 28ms/step - loss: 1.2501 - accuracy: 0.5314 - val_loss: 1.2019 - val_accuracy: 0.5268\n",
      "Epoch 3/5\n",
      "223/223 [==============================] - 6s 29ms/step - loss: 0.9782 - accuracy: 0.6390 - val_loss: 1.1591 - val_accuracy: 0.5625\n",
      "Epoch 4/5\n",
      "223/223 [==============================] - 7s 30ms/step - loss: 0.6038 - accuracy: 0.7623 - val_loss: 1.2208 - val_accuracy: 0.5982\n",
      "Epoch 5/5\n",
      "223/223 [==============================] - 7s 30ms/step - loss: 0.3122 - accuracy: 0.8946 - val_loss: 1.3271 - val_accuracy: 0.5982\n"
     ]
    }
   ],
   "source": [
    "hist=model.fit(xtrain,ytrain,batch_size=2,epochs=5,validation_data=(xtest,ytest))"
   ]
  },
  {
   "cell_type": "code",
   "execution_count": 79,
   "id": "b722613f-d7d2-4cd3-b55b-67110e1f0336",
   "metadata": {},
   "outputs": [
    {
     "name": "stderr",
     "output_type": "stream",
     "text": [
      "WARNING:absl:Found untraced functions such as _jit_compiled_convolution_op, _jit_compiled_convolution_op, _update_step_xla while saving (showing 3 of 3). These functions will not be directly callable after loading.\n"
     ]
    },
    {
     "name": "stdout",
     "output_type": "stream",
     "text": [
      "INFO:tensorflow:Assets written to: machine_test\\assets\n"
     ]
    },
    {
     "name": "stderr",
     "output_type": "stream",
     "text": [
      "INFO:tensorflow:Assets written to: machine_test\\assets\n"
     ]
    }
   ],
   "source": [
    "model.save(\"machine_test\")"
   ]
  },
  {
   "cell_type": "code",
   "execution_count": 82,
   "id": "f71e4a09-41a1-4ed8-9c4e-62bb3c6e6db9",
   "metadata": {},
   "outputs": [
    {
     "data": {
      "text/plain": [
       "<keras.engine.sequential.Sequential at 0x245100be730>"
      ]
     },
     "execution_count": 82,
     "metadata": {},
     "output_type": "execute_result"
    }
   ],
   "source": [
    "from tensorflow.keras.models import load_model\n",
    "loaded_model=load_model(\"machine_test\")\n",
    "loaded_model"
   ]
  },
  {
   "cell_type": "code",
   "execution_count": 69,
   "id": "b7a6b5cc-4ba3-421c-822f-954ea6a954e0",
   "metadata": {},
   "outputs": [],
   "source": [
    "history=hist.history"
   ]
  },
  {
   "cell_type": "code",
   "execution_count": 70,
   "id": "54a96e69-fbc2-42a6-8b7f-562acfc86b2b",
   "metadata": {},
   "outputs": [
    {
     "data": {
      "text/plain": [
       "<matplotlib.legend.Legend at 0x24507f9dfa0>"
      ]
     },
     "execution_count": 70,
     "metadata": {},
     "output_type": "execute_result"
    },
    {
     "data": {
      "image/png": "[encoded data removed]",
      "text/plain": [
       "<Figure size 640x480 with 1 Axes>"
      ]
     },
     "metadata": {},
     "output_type": "display_data"
    }
   ],
   "source": [
    "plt.title(\"Learning Curve\")\n",
    "plt.xlabel(\"epochs\")\n",
    "plt.ylabel(\"Accuracy\")\n",
    "plt.plot(history[\"accuracy\"],label=(\"Accuracy\"))\n",
    "plt.plot(history[\"val_accuracy\"],label=(\"Validation Accuracy\"))\n",
    "plt.grid(True)\n",
    "#plt.style.use(\"seaborn-paper\")\n",
    "#plt.show()\n",
    "plt.legend()"
   ]
  },
  {
   "cell_type": "code",
   "execution_count": 71,
   "id": "fff1c545-6220-47b2-810b-de179c968e57",
   "metadata": {},
   "outputs": [
    {
     "data": {
      "text/plain": [
       "<matplotlib.legend.Legend at 0x245101dd190>"
      ]
     },
     "execution_count": 71,
     "metadata": {},
     "output_type": "execute_result"
    },
    {
     "data": {
      "image/png": "[encoded data removed]",
      "text/plain": [
       "<Figure size 640x480 with 1 Axes>"
      ]
     },
     "metadata": {},
     "output_type": "display_data"
    }
   ],
   "source": [
    "plt.title(\"Learning Curve\")\n",
    "plt.xlabel(\"epochs\")\n",
    "plt.ylabel(\"loss\")\n",
    "plt.plot(history[\"loss\"],label=(\"loss\"))\n",
    "plt.plot(history[\"val_loss\"],label=(\"Validation loss\"))\n",
    "plt.grid(True)\n",
    "#plt.style.use(\"seaborn-paper\")\n",
    "#plt.show()\n",
    "plt.legend()"
   ]
  },
  {
   "cell_type": "code",
   "execution_count": 89,
   "id": "25850c6b-ae24-45ce-99f7-895dfa69dc22",
   "metadata": {},
   "outputs": [
    {
     "name": "stdout",
     "output_type": "stream",
     "text": [
      "1/1 [==============================] - 0s 57ms/step\n"
     ]
    }
   ],
   "source": [
    "img = cv2.imread(\"C:/Users/SREEHARI CR/data science/machine_test/27.jpg\")\n",
    "\n",
    "img = cv2.resize(img,(800,500))\n",
    "gray = cv2.cvtColor(img,cv2.COLOR_BGR2GRAY)\n",
    "#res = hcc.detectMultiScale(gray)\n",
    "\n",
    "#for(x,y,w,h) in res:\n",
    "#    cv2.rectangle(img,(x,y),(x+w, y+h),(255,255,255),2)\n",
    "\n",
    "\n",
    "img = cv2.resize(img,(100,100))\n",
    "img = np.array(img,dtype = 'uint8') \n",
    "\n",
    "cars= {\"Hyundai_Creta\":0, \"mammokka\":1 ,\"Rolls_Royce\":2,\"Swift\":3,\"Toyota_Innova\":4,}\n",
    "pred_img = img.reshape(1,100,100,3)\n",
    "\n",
    "face = loaded_model.predict(pred_img)\n",
    "img = cv2.resize(img,(600,500))\n",
    "\n",
    "#import cv2_imshow\n",
    "\n",
    "for i in cars:\n",
    "    if np.argmax(face) == cars[i]:\n",
    "        name = i\n",
    "        cv2.putText(img,name,(200,200),cv2.FONT_HERSHEY_SIMPLEX,.7,(0,255,0),2)\n",
    "       \n",
    "cv2.imshow('',img)\n",
    "cv2.waitKey(0)\n",
    "cv2.destroyAllWindows()"
   ]
  },
  {
   "cell_type": "code",
   "execution_count": null,
   "id": "4d370391-eb03-4853-9f95-64b05d96f8e2",
   "metadata": {},
   "outputs": [],
   "source": []
  }
 ],
 "metadata": {
  "kernelspec": {
   "display_name": "Python 3 (ipykernel)",
   "language": "python",
   "name": "python3"
  },
  "language_info": {
   "codemirror_mode": {
    "name": "ipython",
    "version": 3
   },
   "file_extension": ".py",
   "mimetype": "text/x-python",
   "name": "python",
   "nbconvert_exporter": "python",
   "pygments_lexer": "ipython3",
   "version": "3.9.13"
  }
 },
 "nbformat": 4,
 "nbformat_minor": 5
}
